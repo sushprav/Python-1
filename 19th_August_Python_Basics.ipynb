{
 "cells": [
  {
   "cell_type": "markdown",
   "id": "6bb70eca",
   "metadata": {},
   "source": [
    "1.Declare two variables, `x` and `y`, and assign them integer values. Swap the\n",
    "values of these variables without using any temporary variable"
   ]
  },
  {
   "cell_type": "code",
   "execution_count": 2,
   "id": "c3b65593",
   "metadata": {},
   "outputs": [
    {
     "name": "stdout",
     "output_type": "stream",
     "text": [
      "10\n",
      "15\n",
      "The value of x after swapping is: 15\n",
      "The value of x after swapping is: 10\n"
     ]
    }
   ],
   "source": [
    "x=10\n",
    "y=15\n",
    "print(x)\n",
    "print(y)\n",
    "###create a temporary variable\n",
    "temp=x\n",
    "x=y\n",
    "y=temp\n",
    "print(\"The value of x after swapping is:\",x)\n",
    "print(\"The value of x after swapping is:\",y)"
   ]
  },
  {
   "cell_type": "markdown",
   "id": "1a106b09",
   "metadata": {},
   "source": [
    "####Create a program that calculates the area of a rectangle. Take the length and\n",
    "width as inputs from the user and store them in variables. Calculate and\n",
    "display the area."
   ]
  },
  {
   "cell_type": "code",
   "execution_count": 3,
   "id": "27873ea9",
   "metadata": {},
   "outputs": [
    {
     "name": "stdout",
     "output_type": "stream",
     "text": [
      "45\n",
      "35\n",
      "The area of the rectangle is : 1575\n"
     ]
    }
   ],
   "source": [
    "length=int(input())\n",
    "width=int(input())\n",
    "area=length*width\n",
    "print(\"The area of the rectangle is :\",area)"
   ]
  },
  {
   "cell_type": "markdown",
   "id": "ab6e0968",
   "metadata": {},
   "source": [
    "###Write a Python program that converts temperatures from Celsius to\n",
    "Fahrenheit. Take the temperature in Celsius as input, store it in a variable,\n",
    "convert it to Fahrenheit, and display the result."
   ]
  },
  {
   "cell_type": "code",
   "execution_count": 4,
   "id": "43ee719b",
   "metadata": {},
   "outputs": [
    {
     "name": "stdout",
     "output_type": "stream",
     "text": [
      "38.5\n",
      "The given temperature in fahrenheit is: 101.3\n"
     ]
    }
   ],
   "source": [
    "celsius=float(input())\n",
    "fahrenheit=(celsius*1.8)+32\n",
    "print(\"The given temperature in fahrenheit is:\",fahrenheit)"
   ]
  },
  {
   "cell_type": "markdown",
   "id": "c0f18833",
   "metadata": {},
   "source": [
    "String Based Questions"
   ]
  },
  {
   "cell_type": "markdown",
   "id": "e618ab2e",
   "metadata": {},
   "source": [
    "1.Write a Python program that takes a string as input and prints the length of\n",
    "the string."
   ]
  },
  {
   "cell_type": "code",
   "execution_count": 5,
   "id": "d3c551a3",
   "metadata": {},
   "outputs": [
    {
     "name": "stdout",
     "output_type": "stream",
     "text": [
      "Hi I am Sushmitha\n",
      "The lengtgh of given string is: 17\n"
     ]
    }
   ],
   "source": [
    "s=str(input())\n",
    "a=len(s)\n",
    "print(\"The lengtgh of given string is:\",a)"
   ]
  },
  {
   "cell_type": "markdown",
   "id": "a4fee823",
   "metadata": {},
   "source": [
    "2.Create a program that takes a sentence from the user and counts the number\n",
    "of vowels (a, e, i, o, u) in the string."
   ]
  },
  {
   "cell_type": "code",
   "execution_count": 6,
   "id": "3d92e7a1",
   "metadata": {},
   "outputs": [
    {
     "name": "stdout",
     "output_type": "stream",
     "text": [
      "Enter string:sushmitha\n",
      "Number of vowels are:\n",
      "3\n"
     ]
    }
   ],
   "source": [
    "string=input(\"Enter string:\")\n",
    "vowels=0\n",
    "for i in string:\n",
    "      if(i=='a' or i=='e' or i=='i' or i=='o' or i=='u' or i=='A' or i=='E' or i=='I' or i=='O' or i=='U'):\n",
    "            vowels=vowels+1\n",
    "print(\"Number of vowels are:\")\n",
    "print(vowels)"
   ]
  },
  {
   "cell_type": "markdown",
   "id": "d395e9f7",
   "metadata": {},
   "source": [
    "3.Given a string, reverse the order of characters using string slicing and print\n",
    "the reversed string"
   ]
  },
  {
   "cell_type": "code",
   "execution_count": 7,
   "id": "0909b010",
   "metadata": {},
   "outputs": [
    {
     "name": "stdout",
     "output_type": "stream",
     "text": [
      "The original string is : sushmitha\n",
      "The reversed string is: ahtimhsus\n"
     ]
    }
   ],
   "source": [
    "str=\"sushmitha\"\n",
    "s1=str[::-1]\n",
    "print(\"The original string is :\",str)\n",
    "print(\"The reversed string is:\",s1)"
   ]
  },
  {
   "cell_type": "markdown",
   "id": "da7a80ed",
   "metadata": {},
   "source": [
    "4.Write a program that takes a string as input and checks if it is a palindrome\n",
    "(reads the same forwards and backwards)."
   ]
  },
  {
   "cell_type": "code",
   "execution_count": 10,
   "id": "829ecea4",
   "metadata": {},
   "outputs": [
    {
     "name": "stdout",
     "output_type": "stream",
     "text": [
      "Please Enter the String:radar\n",
      "The given string is a palindrome\n"
     ]
    }
   ],
   "source": [
    "s=input(\"Please Enter the String:\")\n",
    "y=s[::-1]\n",
    "if s==y:\n",
    "    print(\"The given string is a palindrome\")\n",
    "else:\n",
    "    print(\"The given string is not a palindrome\")"
   ]
  },
  {
   "cell_type": "markdown",
   "id": "40ff8664",
   "metadata": {},
   "source": [
    "5.Create a program that takes a string as input and removes all the spaces from\n",
    "it. Print the modified string without spaces."
   ]
  },
  {
   "cell_type": "code",
   "execution_count": 11,
   "id": "1f068d81",
   "metadata": {},
   "outputs": [
    {
     "name": "stdout",
     "output_type": "stream",
     "text": [
      "enter the string:My Name is Sushmitha\n",
      "The original string is: My Name is Sushmitha\n",
      "The modified string is : MyNameisSushmitha\n"
     ]
    }
   ],
   "source": [
    "str=input(\"enter the string:\")\n",
    "str1=str.replace(\" \",\"\")\n",
    "print(\"The original string is:\",str)\n",
    "print(\"The modified string is :\",str1)"
   ]
  },
  {
   "cell_type": "markdown",
   "id": "a3d39e4c",
   "metadata": {},
   "source": []
  },
  {
   "cell_type": "code",
   "execution_count": null,
   "id": "f08fcae6",
   "metadata": {},
   "outputs": [],
   "source": []
  },
  {
   "cell_type": "code",
   "execution_count": null,
   "id": "8ddd22f7",
   "metadata": {},
   "outputs": [],
   "source": []
  },
  {
   "cell_type": "code",
   "execution_count": null,
   "id": "9348b134",
   "metadata": {},
   "outputs": [],
   "source": []
  }
 ],
 "metadata": {
  "kernelspec": {
   "display_name": "Python 3 (ipykernel)",
   "language": "python",
   "name": "python3"
  },
  "language_info": {
   "codemirror_mode": {
    "name": "ipython",
    "version": 3
   },
   "file_extension": ".py",
   "mimetype": "text/x-python",
   "name": "python",
   "nbconvert_exporter": "python",
   "pygments_lexer": "ipython3",
   "version": "3.9.7"
  }
 },
 "nbformat": 4,
 "nbformat_minor": 5
}
